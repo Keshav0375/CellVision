{
 "cells": [
  {
   "cell_type": "code",
   "execution_count": 1,
   "id": "6fa16fe0-4ca4-4eb1-803f-f7109360cb7e",
   "metadata": {},
   "outputs": [],
   "source": [
    "import os"
   ]
  },
  {
   "cell_type": "code",
   "execution_count": 2,
   "id": "ecc19ee0-0bad-4ae3-a336-67bda562309a",
   "metadata": {},
   "outputs": [],
   "source": [
    "import gdown"
   ]
  },
  {
   "cell_type": "code",
   "execution_count": 3,
   "id": "ab572b09-9121-4a9b-a84c-c78b6dbb8d6c",
   "metadata": {},
   "outputs": [
    {
     "data": {
      "text/plain": [
       "'C:\\\\Users\\\\kesha\\\\PycharmProjects\\\\segment\\\\CellVision\\\\research'"
      ]
     },
     "execution_count": 3,
     "metadata": {},
     "output_type": "execute_result"
    }
   ],
   "source": [
    "%pwd"
   ]
  },
  {
   "cell_type": "code",
   "execution_count": 4,
   "id": "bf48c0af-d175-439d-9cfb-eab4b74590e8",
   "metadata": {},
   "outputs": [],
   "source": [
    "os.chdir(\"../\")"
   ]
  },
  {
   "cell_type": "code",
   "execution_count": 5,
   "id": "f83c2111-5d2c-4e38-aab8-7c1a39a88311",
   "metadata": {},
   "outputs": [
    {
     "data": {
      "text/plain": [
       "'C:\\\\Users\\\\kesha\\\\PycharmProjects\\\\segment\\\\CellVision'"
      ]
     },
     "execution_count": 5,
     "metadata": {},
     "output_type": "execute_result"
    }
   ],
   "source": [
    "%pwd"
   ]
  },
  {
   "cell_type": "code",
   "execution_count": 7,
   "id": "15137a03-f246-4edc-ad0e-a9216a4d359a",
   "metadata": {},
   "outputs": [],
   "source": [
    "url=\"https://drive.google.com/file/d/1wrG1gxjqglaniOdnr4l2BdHbjzctZPaM/view?usp=drive_link\""
   ]
  },
  {
   "cell_type": "code",
   "execution_count": 9,
   "id": "ed3a4e1a-792a-497e-a094-69705dff203f",
   "metadata": {},
   "outputs": [
    {
     "data": {
      "text/plain": [
       "'1wrG1gxjqglaniOdnr4l2BdHbjzctZPaM'"
      ]
     },
     "execution_count": 9,
     "metadata": {},
     "output_type": "execute_result"
    }
   ],
   "source": [
    "file_id= url.split(\"/\")[-2]\n",
    "file_id"
   ]
  },
  {
   "cell_type": "code",
   "execution_count": 10,
   "id": "bbfc678f-551f-43a4-b5cf-0a9f58048784",
   "metadata": {},
   "outputs": [],
   "source": [
    " prefix= \"https://drive.google.com/uc?/export=download&id=\""
   ]
  },
  {
   "cell_type": "code",
   "execution_count": 11,
   "id": "a21c0add-6bc7-4998-890c-6f54a85c99dd",
   "metadata": {},
   "outputs": [
    {
     "name": "stderr",
     "output_type": "stream",
     "text": [
      "Downloading...\n",
      "From: https://drive.google.com/uc?/export=download&id=1wrG1gxjqglaniOdnr4l2BdHbjzctZPaM\n",
      "To: C:\\Users\\kesha\\PycharmProjects\\segment\\CellVision\\data\\cell_data.zip\n",
      "100%|█████████████████████████████████████████████████████████████████████████████| 9.62M/9.62M [00:02<00:00, 3.75MB/s]\n"
     ]
    },
    {
     "data": {
      "text/plain": [
       "'data/cell_data.zip'"
      ]
     },
     "execution_count": 11,
     "metadata": {},
     "output_type": "execute_result"
    }
   ],
   "source": [
    "gdown.download(prefix+file_id, \"data/cell_data.zip\")"
   ]
  },
  {
   "cell_type": "code",
   "execution_count": null,
   "id": "b03a9284-0299-4fd3-9068-df9ff5d84706",
   "metadata": {},
   "outputs": [],
   "source": []
  }
 ],
 "metadata": {
  "kernelspec": {
   "display_name": "Python 3 (ipykernel)",
   "language": "python",
   "name": "python3"
  },
  "language_info": {
   "codemirror_mode": {
    "name": "ipython",
    "version": 3
   },
   "file_extension": ".py",
   "mimetype": "text/x-python",
   "name": "python",
   "nbconvert_exporter": "python",
   "pygments_lexer": "ipython3",
   "version": "3.10.6"
  }
 },
 "nbformat": 4,
 "nbformat_minor": 5
}
